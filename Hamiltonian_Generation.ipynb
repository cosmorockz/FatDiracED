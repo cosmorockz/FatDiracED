{
 "cells": [
  {
   "cell_type": "code",
   "execution_count": 1,
   "id": "29c0fc6e-3c38-4dca-b5bf-02afb2bab4a2",
   "metadata": {},
   "outputs": [],
   "source": [
    "import gc\n",
    "import os\n",
    "import sys\n",
    "import shutil\n",
    "import threading\n",
    "import numpy as np"
   ]
  },
  {
   "cell_type": "code",
   "execution_count": 2,
   "id": "b61abff8-68b4-4aa6-b078-1eb2fd8b3463",
   "metadata": {},
   "outputs": [],
   "source": [
    "cutoff = 1 # Landau level index cutoff\n",
    "Q = 2 # Dirac magnetic Monopole charge\n",
    "StrengthTol = 1e-8\n",
    "\n",
    "kinConst = 1e+2 # Strength of the kinetic part\n",
    "intConst = 1e+2  # Strength of the Interaction Part\n",
    "\n",
    "l_max = Q - 1/2 + cutoff # Maximum Angular momentum level for the given Magnetic\n",
    "# field and \"cutoff\"\n",
    "\n",
    "TotalSPStates = int((4*cutoff + 2) * Q + 2 * cutoff \\\n",
    "    * (cutoff + 1)) # Total number of single particle states\n",
    "\n",
    "NParticles = int(TotalSPStates/2) # Total number of electrons in the system\n",
    "nEigvals = 40\n",
    "\n",
    "LargestNumber = 2**TotalSPStates\n",
    "\n",
    "def Bset(Q,cutoff,m):\n",
    "    # Set of quantum numbers if magentic field and cutoff is specified for a given m\n",
    "    levels = []\n",
    "    if ((Q*2) % 2) < 1e-8:\n",
    "#         M = max(int(abs(m)+0.5),)\n",
    "        for i in range(-cutoff,cutoff+1):\n",
    "            l = Q + np.abs(i) - 1/2\n",
    "            if ((np.abs(m)*2) % 2) > 0.999:\n",
    "                if np.abs(m) <= np.abs(l):\n",
    "                    levels.append(i)\n",
    "    else:\n",
    "        for i in range(-cutoff,cutoff+1):\n",
    "            l = Q + np.abs(i) - 1/2\n",
    "            if ((np.abs(m)*2) % 2) < 1e-8:\n",
    "                if np.abs(m) <= np.abs(l):\n",
    "                    levels.append(i)\n",
    "    return levels"
   ]
  },
  {
   "cell_type": "code",
   "execution_count": null,
   "id": "97f5ae15-501e-4c27-910c-2877b45cbc90",
   "metadata": {},
   "outputs": [],
   "source": []
  },
  {
   "cell_type": "code",
   "execution_count": null,
   "id": "b2d15328-d740-4752-b719-c8e9acb43f9a",
   "metadata": {},
   "outputs": [],
   "source": []
  },
  {
   "cell_type": "code",
   "execution_count": 6,
   "id": "856fcce0-b070-4813-ae85-1a91dfb61afa",
   "metadata": {},
   "outputs": [],
   "source": [
    "def Bset(Q, cutoff, m):\n",
    "    levels = []\n",
    "    is_half_integer_Q = isinstance(Q, float) and (Q * 2).is_integer()\n",
    "    is_half_integer_m = isinstance(m, float) and (m * 2).is_integer()\n",
    "    \n",
    "    if not (isinstance(Q, int) or is_half_integer_Q):\n",
    "        print(\"Q must be an integer or half-integer\")\n",
    "        sys.exit(1)\n",
    "    \n",
    "    if (isinstance(Q, int) and not is_half_integer_m) or (is_half_integer_Q and not isinstance(m, int)):\n",
    "        print(\"m must be half-integer when Q is integer and integer when Q is half-integer\")\n",
    "        sys.exit(1)\n",
    "    \n",
    "    for i in range(-cutoff, cutoff + 1):\n",
    "        l = Q + abs(i) - 0.5\n",
    "        if (abs(m) * 2) % 2 == (1 if isinstance(Q, int) else 0):\n",
    "            if abs(m) <= abs(l):\n",
    "                levels.append(i)\n",
    "    \n",
    "    return levels"
   ]
  },
  {
   "cell_type": "code",
   "execution_count": 9,
   "id": "a7ea335c-6e19-46c2-baa7-dce66811968f",
   "metadata": {},
   "outputs": [
    {
     "data": {
      "text/plain": [
       "[]"
      ]
     },
     "execution_count": 9,
     "metadata": {},
     "output_type": "execute_result"
    }
   ],
   "source": [
    "Bset(2, 2, 4.5)"
   ]
  },
  {
   "cell_type": "code",
   "execution_count": 5,
   "id": "f2e0be6f-d21f-405d-8d86-027e4c73af76",
   "metadata": {},
   "outputs": [
    {
     "data": {
      "text/plain": [
       "2.5"
      ]
     },
     "execution_count": 5,
     "metadata": {},
     "output_type": "execute_result"
    }
   ],
   "source": [
    "l_max"
   ]
  },
  {
   "cell_type": "code",
   "execution_count": 6,
   "id": "f0cd12b4-5845-42eb-bf38-0f1ef6c5da46",
   "metadata": {},
   "outputs": [
    {
     "data": {
      "text/plain": [
       "[-2, -1, 0, 1, 2]"
      ]
     },
     "execution_count": 6,
     "metadata": {},
     "output_type": "execute_result"
    }
   ],
   "source": [
    "Bset(2, 2, 0.5)"
   ]
  },
  {
   "cell_type": "code",
   "execution_count": null,
   "id": "37dfa369-06c4-4a50-a775-c52dd36f003a",
   "metadata": {},
   "outputs": [],
   "source": []
  },
  {
   "cell_type": "code",
   "execution_count": null,
   "id": "ad38e249-595f-4047-afe0-00388b501142",
   "metadata": {},
   "outputs": [],
   "source": []
  },
  {
   "cell_type": "code",
   "execution_count": null,
   "id": "82e6e23c-facd-4b31-bb9a-306a8a5a04fa",
   "metadata": {},
   "outputs": [],
   "source": []
  },
  {
   "cell_type": "code",
   "execution_count": null,
   "id": "5bd0bc80-d93e-4c77-9855-2f3a9a75cd49",
   "metadata": {},
   "outputs": [],
   "source": []
  },
  {
   "cell_type": "code",
   "execution_count": null,
   "id": "dd7fbd4d-a8da-4710-a6c9-5a744a3ee6e5",
   "metadata": {},
   "outputs": [],
   "source": []
  },
  {
   "cell_type": "code",
   "execution_count": null,
   "id": "9b333d71-0c84-4843-ad53-a48251c0989a",
   "metadata": {},
   "outputs": [],
   "source": []
  },
  {
   "cell_type": "code",
   "execution_count": null,
   "id": "66764bca-d89d-46d8-907b-31d9ec21ae94",
   "metadata": {},
   "outputs": [],
   "source": []
  },
  {
   "cell_type": "code",
   "execution_count": null,
   "id": "0236df2f-c8ce-448f-93e5-36077ec7ac04",
   "metadata": {},
   "outputs": [],
   "source": []
  },
  {
   "cell_type": "code",
   "execution_count": null,
   "id": "0b776bed-1e5a-4fd8-a1e9-edb90ae5b85b",
   "metadata": {},
   "outputs": [],
   "source": []
  },
  {
   "cell_type": "code",
   "execution_count": null,
   "id": "da1bc1bf-6b10-4e21-b5bf-55e9cd156312",
   "metadata": {},
   "outputs": [],
   "source": []
  },
  {
   "cell_type": "code",
   "execution_count": null,
   "id": "b55402d5-1018-458a-bcd4-828a08f23c18",
   "metadata": {},
   "outputs": [],
   "source": []
  },
  {
   "cell_type": "code",
   "execution_count": null,
   "id": "697540e8-3c2e-46b3-b317-e4cc53255e25",
   "metadata": {},
   "outputs": [],
   "source": []
  },
  {
   "cell_type": "code",
   "execution_count": null,
   "id": "a32447a4-2a38-42af-838d-36f5d63e760f",
   "metadata": {},
   "outputs": [],
   "source": []
  },
  {
   "cell_type": "code",
   "execution_count": null,
   "id": "fc202297-fdce-4c37-89c2-7e563fc7d521",
   "metadata": {},
   "outputs": [],
   "source": []
  },
  {
   "cell_type": "code",
   "execution_count": null,
   "id": "0415f7cf-bdab-4048-b620-0ac17b34066c",
   "metadata": {},
   "outputs": [],
   "source": []
  },
  {
   "cell_type": "code",
   "execution_count": null,
   "id": "b8fd8154-e9a1-4307-b661-2e22cc9da261",
   "metadata": {},
   "outputs": [],
   "source": []
  },
  {
   "cell_type": "code",
   "execution_count": null,
   "id": "0e917a90-727c-4a60-af16-876a8f479ffa",
   "metadata": {},
   "outputs": [],
   "source": []
  },
  {
   "cell_type": "code",
   "execution_count": null,
   "id": "af792f67-71cb-414e-bbff-ef6c31d64162",
   "metadata": {},
   "outputs": [],
   "source": []
  },
  {
   "cell_type": "code",
   "execution_count": null,
   "id": "f49f80de-f036-4c7b-855e-b3260a47fbcd",
   "metadata": {},
   "outputs": [],
   "source": []
  },
  {
   "cell_type": "code",
   "execution_count": null,
   "id": "8258bc71-94a1-4ebf-aecd-7bc1dfc3f238",
   "metadata": {},
   "outputs": [],
   "source": []
  },
  {
   "cell_type": "code",
   "execution_count": null,
   "id": "82eaa028-7f43-45b3-b26c-408b186b940d",
   "metadata": {},
   "outputs": [],
   "source": []
  },
  {
   "cell_type": "code",
   "execution_count": null,
   "id": "d7f54a4b-08b3-4a88-bb6a-3bda1452cda9",
   "metadata": {},
   "outputs": [],
   "source": []
  },
  {
   "cell_type": "code",
   "execution_count": null,
   "id": "7df81f88-ffb9-4c92-b940-f6f5df1b1fc2",
   "metadata": {},
   "outputs": [],
   "source": []
  }
 ],
 "metadata": {
  "kernelspec": {
   "display_name": "Python 3 (ipykernel)",
   "language": "python",
   "name": "python3"
  },
  "language_info": {
   "codemirror_mode": {
    "name": "ipython",
    "version": 3
   },
   "file_extension": ".py",
   "mimetype": "text/x-python",
   "name": "python",
   "nbconvert_exporter": "python",
   "pygments_lexer": "ipython3",
   "version": "3.10.9"
  }
 },
 "nbformat": 4,
 "nbformat_minor": 5
}

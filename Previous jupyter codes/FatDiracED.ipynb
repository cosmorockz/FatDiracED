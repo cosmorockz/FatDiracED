{
 "cells": [
  {
   "cell_type": "code",
   "execution_count": 1,
   "metadata": {},
   "outputs": [],
   "source": [
    "import gc\n",
    "import os\n",
    "import shutil\n",
    "import itertools\n",
    "import numpy as np\n",
    "import matplotlib.pyplot as plt"
   ]
  },
  {
   "cell_type": "code",
   "execution_count": 88,
   "metadata": {},
   "outputs": [],
   "source": [
    "cutoff = 0\n",
    "Q = 13\n",
    "TotalSPStates = int((4*cutoff + 2) * Q + 2 * cutoff * (cutoff + 1)) # Total number of single particle states\n",
    "LargestNumber = 2**TotalSPStates"
   ]
  },
  {
   "cell_type": "code",
   "execution_count": 80,
   "metadata": {},
   "outputs": [
    {
     "data": {
      "text/plain": [
       "1048576"
      ]
     },
     "execution_count": 80,
     "metadata": {},
     "output_type": "execute_result"
    }
   ],
   "source": [
    "LargestNumber"
   ]
  },
  {
   "cell_type": "code",
   "execution_count": 89,
   "metadata": {},
   "outputs": [],
   "source": [
    "l_max = Q - 0.5 + cutoff\n",
    "mm = [-l_max + i for i in range(int(2*l_max+1))]"
   ]
  },
  {
   "cell_type": "code",
   "execution_count": 90,
   "metadata": {},
   "outputs": [],
   "source": [
    "# k = 0\n",
    "# for m1,m2 in itertools.product(mm,mm):\n",
    "#     k += 1\n",
    "#     print(m1,m2)"
   ]
  },
  {
   "cell_type": "code",
   "execution_count": 91,
   "metadata": {},
   "outputs": [],
   "source": [
    "def decimalToBinary(n):\n",
    "    # Converts a given number in decimal representation to a binary number\n",
    "    return \"{0:b}\".format(int(n))"
   ]
  },
  {
   "cell_type": "code",
   "execution_count": 92,
   "metadata": {},
   "outputs": [],
   "source": [
    "def ContainerArray(n,ArraySize):\n",
    "    # Given a decimal number, this function outputs a binary number\n",
    "    # in an array of fixed legth.\n",
    "    # For example, if n=4 and ArraySize=6,\n",
    "    # The output will be [0,0,0,1,0,0]\n",
    "    Container = [0 for i in range(ArraySize)]\n",
    "    BinaryNumber = decimalToBinary(n)\n",
    "    LenBinary = len(BinaryNumber)\n",
    "    for i in range(LenBinary):\n",
    "        Container[ArraySize-1-i] = int(BinaryNumber[LenBinary-1-i])\n",
    "    return Container"
   ]
  },
  {
   "cell_type": "code",
   "execution_count": 93,
   "metadata": {},
   "outputs": [],
   "source": [
    "def FockBasisToDecimal(state):\n",
    "    BinaryString = ''.join(str(e) for e in state)\n",
    "    n = int(BinaryString,2)\n",
    "    return n"
   ]
  },
  {
   "cell_type": "code",
   "execution_count": 94,
   "metadata": {},
   "outputs": [],
   "source": [
    "def BasisGenerator(Nlevels):\n",
    "    # Given a Hilbert space size, generates all the basis vectors that spans the space\n",
    "    MaxN = 2**Nlevels # Highest number in the basis in decimal (By highest we mean the fully filled system)\n",
    "    basis = []\n",
    "    for i in range(MaxN):\n",
    "        basis.append(ContainerArray(i,Nlevels))\n",
    "    return basis"
   ]
  },
  {
   "cell_type": "code",
   "execution_count": 95,
   "metadata": {},
   "outputs": [],
   "source": [
    "def Bset(Q,cutoff,m):\n",
    "    # Set of quantum numbers if magentic field and cutoff is specified for a given m\n",
    "    levels = []\n",
    "    if ((Q*2) % 2) < 1e-8:\n",
    "#         M = max(int(abs(m)+0.5),)\n",
    "        for i in range(-cutoff,cutoff+1):\n",
    "            l = Q + np.abs(i) - 1/2\n",
    "            if ((np.abs(m)*2) % 2) > 0.999:\n",
    "                if np.abs(m) <= np.abs(l):\n",
    "                    levels.append(i)\n",
    "    else:\n",
    "        for i in range(-cutoff,cutoff+1):\n",
    "            l = Q + np.abs(i) - 1/2\n",
    "            if ((np.abs(m)*2) % 2) < 1e-8:\n",
    "                if np.abs(m) <= np.abs(l):\n",
    "                    levels.append(i)\n",
    "    return levels"
   ]
  },
  {
   "cell_type": "code",
   "execution_count": 96,
   "metadata": {},
   "outputs": [],
   "source": [
    "def BasisGeneratorNumberConserving(BasisElement):\n",
    "    # Given a basis element, this function generates all the other basis elements \n",
    "    # of same angular momentum and same particle number\n",
    "    return list(set(list(itertools.permutations(BasisElement))))"
   ]
  },
  {
   "cell_type": "code",
   "execution_count": 97,
   "metadata": {},
   "outputs": [],
   "source": [
    "def FockBasisToOperator(BasisElement):\n",
    "    # Inputs a state in the Fock basis e.g. [0,1,0,1]\n",
    "    # Outputs it as [2,4]\n",
    "    basis = []\n",
    "    for i,element in enumerate(BasisElement):\n",
    "        if element == 1:\n",
    "            basis.append(i)\n",
    "    return basis"
   ]
  },
  {
   "cell_type": "code",
   "execution_count": 98,
   "metadata": {},
   "outputs": [],
   "source": [
    "def OperatorToFockBasis(state):\n",
    "    ArraySize = TotalSPStates\n",
    "    Container = [0 for i in range(ArraySize)]\n",
    "    for element in state:\n",
    "        Container[element] = 1\n",
    "    return Container"
   ]
  },
  {
   "cell_type": "code",
   "execution_count": 99,
   "metadata": {},
   "outputs": [],
   "source": [
    "def DecimalToFockBasis(n):\n",
    "    Binary = \"{0:b}\".format(int(n))\n",
    "    ArraySize = TotalSPStates\n",
    "    Container = [0 for i in range(ArraySize)]\n",
    "    LenBinary = len(Binary)\n",
    "    for i in range(LenBinary):\n",
    "        Container[ArraySize-1-i] = int(Binary[LenBinary-1-i])\n",
    "    return Container"
   ]
  },
  {
   "cell_type": "code",
   "execution_count": 100,
   "metadata": {},
   "outputs": [],
   "source": [
    "MM = [] # Angular momentum of states\n",
    "AllStates = [] # Contains tuples of all levels\n",
    "for m in mm:\n",
    "    LevelSet = Bset(Q,cutoff,m)\n",
    "    NN = len(LevelSet)\n",
    "    for i in range(NN):\n",
    "        MM.append(m)\n",
    "    for element in LevelSet:\n",
    "        AllStates.append((element,m))"
   ]
  },
  {
   "cell_type": "code",
   "execution_count": 101,
   "metadata": {},
   "outputs": [],
   "source": [
    "# All the indices for two-particle interactions\n",
    "IntIndices = []\n",
    "for state1 in AllStates:\n",
    "    for state2 in AllStates:\n",
    "        for state3 in AllStates:\n",
    "            m1 = state1[1]\n",
    "            m2 = state2[1]\n",
    "            m3 = state3[1]\n",
    "            m4 = m1 + m2 - m3\n",
    "            LevelSet = Bset(Q,cutoff,m4)\n",
    "            for level in LevelSet:\n",
    "                IntIndices.append((state1,state2,state3,(m4,level)))"
   ]
  },
  {
   "cell_type": "code",
   "execution_count": 102,
   "metadata": {},
   "outputs": [],
   "source": [
    "# All the indices for three-particle interactions at cutoff = 0\n",
    "ThreIn = []\n",
    "for m1, m2 in itertools.product(mm,mm):\n",
    "    for m3,m4 in itertools.product(mm,mm):\n",
    "        for m5 in mm:\n",
    "            m6 = m1 + m2 + m3 - m4 - m5\n",
    "            ThreIn.append((m1,m2,m3,m4,m5,m6))\n",
    "ThreIn = list(set(ThreIn))"
   ]
  },
  {
   "cell_type": "code",
   "execution_count": 110,
   "metadata": {},
   "outputs": [
    {
     "data": {
      "text/plain": [
       "(1.5, 2.5, -2.5, -8.5, 3.5, 6.5)"
      ]
     },
     "execution_count": 110,
     "metadata": {},
     "output_type": "execute_result"
    }
   ],
   "source": [
    "ThreIn[6]"
   ]
  },
  {
   "cell_type": "code",
   "execution_count": 105,
   "metadata": {},
   "outputs": [
    {
     "data": {
      "text/plain": [
       "11881376"
      ]
     },
     "execution_count": 105,
     "metadata": {},
     "output_type": "execute_result"
    }
   ],
   "source": [
    "len(ThreIn)"
   ]
  },
  {
   "cell_type": "code",
   "execution_count": 24,
   "metadata": {},
   "outputs": [],
   "source": [
    "M1, M2, M3, M4, M5, M6, TInt = np.loadtxt(\"ThreeParticleIntegralsQ3cutoff0.dat\",usecols=(0,1,2,3,4,5,6),unpack=True,delimiter=\",\")"
   ]
  },
  {
   "cell_type": "code",
   "execution_count": null,
   "metadata": {},
   "outputs": [],
   "source": []
  },
  {
   "cell_type": "code",
   "execution_count": 28,
   "metadata": {},
   "outputs": [
    {
     "data": {
      "text/plain": [
       "4332"
      ]
     },
     "execution_count": 28,
     "metadata": {},
     "output_type": "execute_result"
    }
   ],
   "source": [
    "len(TInt)"
   ]
  },
  {
   "cell_type": "code",
   "execution_count": 15,
   "metadata": {},
   "outputs": [
    {
     "data": {
      "text/plain": [
       "228"
      ]
     },
     "execution_count": 15,
     "metadata": {},
     "output_type": "execute_result"
    }
   ],
   "source": [
    "# Finds and saves states with the same total angular momentum\n",
    "data = {}\n",
    "AMlist = []\n",
    "ArraySize = len(MM)\n",
    "for n in range(0,LargestNumber+1):\n",
    "    Number = ContainerArray(n,ArraySize)\n",
    "    AngularMomentum = np.dot(MM,Number)\n",
    "    AMlist.append(AngularMomentum)\n",
    "    key = str(AngularMomentum)\n",
    "    if key in data:\n",
    "        data[key].append(n)\n",
    "    else:\n",
    "        data[key] = []\n",
    "AMs = list(set(AMlist)) # List of all the total angular momentum\n",
    "\n",
    "del AMlist\n",
    "gc.collect()\n",
    "\n",
    "AMfolder = \"./DecimalAMCorrCutoff\"+str(cutoff)+\"Q\"+str(Q)\n",
    "try:\n",
    "    shutil.rmtree(AMfolder)\n",
    "except OSError:\n",
    "    pass\n",
    "\n",
    "os.mkdir(AMfolder)\n",
    "    \n",
    "for key, values in data.items():\n",
    "    np.savetxt(AMfolder+\"/AM\"+str(round(float(key),1))+\".dat\", np.c_[values], fmt=\"%i\") #, np.array(values).astype(int))\n",
    "\n",
    "del data\n",
    "gc.collect()"
   ]
  },
  {
   "cell_type": "code",
   "execution_count": 16,
   "metadata": {},
   "outputs": [],
   "source": [
    "TotalL = 0.0\n",
    "nList = np.loadtxt(AMfolder+\"/AM\"+str(round(TotalL,1))+\".dat\", dtype=float).astype(int) # Array of all the decimal numbers corresponding to the angular momentum"
   ]
  },
  {
   "cell_type": "code",
   "execution_count": 18,
   "metadata": {},
   "outputs": [
    {
     "data": {
      "text/plain": [
       "array([12, 18, 30, 33, 45, 51, 63])"
      ]
     },
     "execution_count": 18,
     "metadata": {},
     "output_type": "execute_result"
    }
   ],
   "source": [
    "nList"
   ]
  },
  {
   "cell_type": "code",
   "execution_count": null,
   "metadata": {},
   "outputs": [],
   "source": []
  },
  {
   "cell_type": "code",
   "execution_count": 20,
   "metadata": {},
   "outputs": [
    {
     "data": {
      "text/plain": [
       "[0, 0, 0, 0, 0, 0, 0, 0, 0, 0, 0, 0, 0, 1, 1, 0]"
      ]
     },
     "execution_count": 20,
     "metadata": {},
     "output_type": "execute_result"
    }
   ],
   "source": [
    "DecimalToFockBasis(6)"
   ]
  },
  {
   "cell_type": "code",
   "execution_count": 13,
   "metadata": {},
   "outputs": [
    {
     "data": {
      "text/plain": [
       "[0, 0, 1, 0, 1, 0, 0, 0, 0, 0, 0, 0, 0, 0, 0, 0]"
      ]
     },
     "execution_count": 13,
     "metadata": {},
     "output_type": "execute_result"
    }
   ],
   "source": [
    "OperatorToFockBasis([2,4])"
   ]
  },
  {
   "cell_type": "code",
   "execution_count": null,
   "metadata": {},
   "outputs": [],
   "source": [
    "np.binom"
   ]
  },
  {
   "cell_type": "code",
   "execution_count": 45,
   "metadata": {},
   "outputs": [
    {
     "data": {
      "text/plain": [
       "[3]"
      ]
     },
     "execution_count": 45,
     "metadata": {},
     "output_type": "execute_result"
    }
   ],
   "source": [
    "FockBasisToOperator([0,0,0,1,0])"
   ]
  },
  {
   "cell_type": "code",
   "execution_count": 13,
   "metadata": {},
   "outputs": [],
   "source": [
    "import scipy.special as sp"
   ]
  },
  {
   "cell_type": "code",
   "execution_count": 16,
   "metadata": {},
   "outputs": [
    {
     "data": {
      "text/plain": [
       "134596.0"
      ]
     },
     "execution_count": 16,
     "metadata": {},
     "output_type": "execute_result"
    }
   ],
   "source": [
    "sp.binom(24,6)"
   ]
  },
  {
   "cell_type": "code",
   "execution_count": 19,
   "metadata": {},
   "outputs": [
    {
     "data": {
      "text/plain": [
       "7962.624"
      ]
     },
     "execution_count": 19,
     "metadata": {},
     "output_type": "execute_result"
    }
   ],
   "source": [
    "24**5 / 1000"
   ]
  },
  {
   "cell_type": "code",
   "execution_count": null,
   "metadata": {},
   "outputs": [],
   "source": []
  },
  {
   "cell_type": "code",
   "execution_count": 41,
   "metadata": {},
   "outputs": [],
   "source": [
    "n = len(Bset(2,2,0.5))"
   ]
  },
  {
   "cell_type": "code",
   "execution_count": 42,
   "metadata": {},
   "outputs": [
    {
     "data": {
      "text/plain": [
       "[[0, 0, 0, 0, 0],\n",
       " [0, 0, 0, 0, 1],\n",
       " [0, 0, 0, 1, 0],\n",
       " [0, 0, 0, 1, 1],\n",
       " [0, 0, 1, 0, 0],\n",
       " [0, 0, 1, 0, 1],\n",
       " [0, 0, 1, 1, 0],\n",
       " [0, 0, 1, 1, 1],\n",
       " [0, 1, 0, 0, 0],\n",
       " [0, 1, 0, 0, 1],\n",
       " [0, 1, 0, 1, 0],\n",
       " [0, 1, 0, 1, 1],\n",
       " [0, 1, 1, 0, 0],\n",
       " [0, 1, 1, 0, 1],\n",
       " [0, 1, 1, 1, 0],\n",
       " [0, 1, 1, 1, 1],\n",
       " [1, 0, 0, 0, 0],\n",
       " [1, 0, 0, 0, 1],\n",
       " [1, 0, 0, 1, 0],\n",
       " [1, 0, 0, 1, 1],\n",
       " [1, 0, 1, 0, 0],\n",
       " [1, 0, 1, 0, 1],\n",
       " [1, 0, 1, 1, 0],\n",
       " [1, 0, 1, 1, 1],\n",
       " [1, 1, 0, 0, 0],\n",
       " [1, 1, 0, 0, 1],\n",
       " [1, 1, 0, 1, 0],\n",
       " [1, 1, 0, 1, 1],\n",
       " [1, 1, 1, 0, 0],\n",
       " [1, 1, 1, 0, 1],\n",
       " [1, 1, 1, 1, 0],\n",
       " [1, 1, 1, 1, 1]]"
      ]
     },
     "execution_count": 42,
     "metadata": {},
     "output_type": "execute_result"
    }
   ],
   "source": [
    "BasisGenerator(n)"
   ]
  },
  {
   "cell_type": "code",
   "execution_count": 24,
   "metadata": {},
   "outputs": [],
   "source": [
    "from sympy import symbols\n",
    "from sympy.physics.wigner import wigner_6j"
   ]
  },
  {
   "cell_type": "code",
   "execution_count": 25,
   "metadata": {},
   "outputs": [
    {
     "data": {
      "text/latex": [
       "$\\displaystyle \\frac{1}{52}$"
      ],
      "text/plain": [
       "1/52"
      ]
     },
     "execution_count": 25,
     "metadata": {},
     "output_type": "execute_result"
    }
   ],
   "source": [
    "wigner_6j(5,5,5,5,5,5)"
   ]
  },
  {
   "cell_type": "code",
   "execution_count": null,
   "metadata": {},
   "outputs": [],
   "source": []
  },
  {
   "cell_type": "code",
   "execution_count": null,
   "metadata": {},
   "outputs": [],
   "source": []
  },
  {
   "cell_type": "code",
   "execution_count": null,
   "metadata": {},
   "outputs": [],
   "source": []
  },
  {
   "cell_type": "code",
   "execution_count": null,
   "metadata": {},
   "outputs": [],
   "source": []
  }
 ],
 "metadata": {
  "kernelspec": {
   "display_name": "Python 3",
   "language": "python",
   "name": "python3"
  },
  "language_info": {
   "codemirror_mode": {
    "name": "ipython",
    "version": 3
   },
   "file_extension": ".py",
   "mimetype": "text/x-python",
   "name": "python",
   "nbconvert_exporter": "python",
   "pygments_lexer": "ipython3",
   "version": "3.8.3"
  }
 },
 "nbformat": 4,
 "nbformat_minor": 4
}
